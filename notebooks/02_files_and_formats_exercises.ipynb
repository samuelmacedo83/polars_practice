{
  "nbformat": 4,
  "nbformat_minor": 0,
  "metadata": {
    "colab": {
      "provenance": []
    },
    "kernelspec": {
      "name": "python3",
      "display_name": "Python 3"
    },
    "language_info": {
      "name": "python"
    }
  },
  "cells": [
    {
      "cell_type": "markdown",
      "source": [
        "This is Set 2: Files and Formats (Exercises 11-20) of **Polars Exercises**: 💯 *polars exercises*\n",
        "You can find all the exercises and solutions on [GitHub](https://github.com/JustinKurland/polars_practice)\n",
        "\n",
        "**Prerequisites**\n",
        "\n",
        "\n",
        "\n",
        "*   The `polars` package should be upgraded to the latest version (v0.15.1+).\n",
        "*   Additional packages `numpy`, `pandas` and `pyarrow` should be installed.\n",
        "*   Small example values along with the sample dataset [polars_sample.zip](https://github.com/JustinKurland/polars_practice/blob/main/data/polars_sample.zip) will be used for the exercises.\n"
      ],
      "metadata": {
        "id": "jYlTmYgW9ayD"
      }
    },
    {
      "cell_type": "code",
      "source": [
        "!pip install polars\n",
        "!pip install numpy\n",
        "!pip install pandas\n",
        "!pip install pyarrow\n",
        "!wget https://raw.githubusercontent.com/JustinKurland/polars_practice/blob/main/data/polars_sample.zip"
      ],
      "metadata": {
        "colab": {
          "base_uri": "https://localhost:8080/"
        },
        "id": "mt7eOjKgACWj",
        "outputId": "8bca5897-1271-47d7-a2c9-1ea34a67d95c"
      },
      "execution_count": 1,
      "outputs": [
        {
          "output_type": "stream",
          "name": "stdout",
          "text": [
            "Looking in indexes: https://pypi.org/simple, https://us-python.pkg.dev/colab-wheels/public/simple/\n",
            "Requirement already satisfied: polars in /usr/local/lib/python3.8/dist-packages (0.15.1)\n",
            "Requirement already satisfied: typing_extensions>=4.0.0 in /usr/local/lib/python3.8/dist-packages (from polars) (4.1.1)\n",
            "Looking in indexes: https://pypi.org/simple, https://us-python.pkg.dev/colab-wheels/public/simple/\n",
            "Requirement already satisfied: numpy in /usr/local/lib/python3.8/dist-packages (1.21.6)\n",
            "Looking in indexes: https://pypi.org/simple, https://us-python.pkg.dev/colab-wheels/public/simple/\n",
            "Requirement already satisfied: pandas in /usr/local/lib/python3.8/dist-packages (1.3.5)\n",
            "Requirement already satisfied: python-dateutil>=2.7.3 in /usr/local/lib/python3.8/dist-packages (from pandas) (2.8.2)\n",
            "Requirement already satisfied: numpy>=1.17.3 in /usr/local/lib/python3.8/dist-packages (from pandas) (1.21.6)\n",
            "Requirement already satisfied: pytz>=2017.3 in /usr/local/lib/python3.8/dist-packages (from pandas) (2022.6)\n",
            "Requirement already satisfied: six>=1.5 in /usr/local/lib/python3.8/dist-packages (from python-dateutil>=2.7.3->pandas) (1.15.0)\n",
            "Looking in indexes: https://pypi.org/simple, https://us-python.pkg.dev/colab-wheels/public/simple/\n",
            "Requirement already satisfied: pyarrow in /usr/local/lib/python3.8/dist-packages (9.0.0)\n",
            "Requirement already satisfied: numpy>=1.16.6 in /usr/local/lib/python3.8/dist-packages (from pyarrow) (1.21.6)\n",
            "--2022-12-01 18:23:00--  https://raw.githubusercontent.com/JustinKurland/polars_practice/blob/main/data/polars_sample.zip\n",
            "Resolving raw.githubusercontent.com (raw.githubusercontent.com)... 185.199.108.133, 185.199.109.133, 185.199.110.133, ...\n",
            "Connecting to raw.githubusercontent.com (raw.githubusercontent.com)|185.199.108.133|:443... connected.\n",
            "HTTP request sent, awaiting response... 404 Not Found\n",
            "2022-12-01 18:23:00 ERROR 404: Not Found.\n",
            "\n"
          ]
        }
      ]
    },
    {
      "cell_type": "code",
      "source": [
        "import polars as pl\n",
        "import numpy as np\n",
        "import pandas as pd\n",
        "import pyarrow as pa\n",
        "from zipfile import ZipFile\n",
        "\n",
        "pl_dframe = pl.DataFrame({\"v1\": list(range(10)), \"v2\":['Y', 'O', 'U', 'C', 'A', 'N', 'D', 'O', 'I', 'T']})\n",
        "pd_dframe = pd.DataFrame({'v1': range(11), 'v2': ['N', 'E', 'V', 'E', 'R', 'G', 'I', 'V', 'E', 'U', 'P']})\n",
        "nparray = np.array([[0, 'C'], [1, 'O'], [2, 'D'], [3, 'E']])\n",
        "pa_table = pa.Table.from_pandas(pd_dframe)\n",
        "pl_array = [range(4), ['D', 'A', 'T', 'A']]\n",
        "p_list = [range(4), ['D', 'A', 'T', 'A']]\n",
        "p_dict = {'x': range(6), 'y': ['P', 'Y', 'T', 'H', 'O', 'N']}\n",
        "p_tup = [(0, 'L'), (1, 'E'), (2, 'A'), (3, 'R'), (4, 'N')]"
      ],
      "metadata": {
        "id": "ikd6ZjByEEOF"
      },
      "execution_count": 2,
      "outputs": []
    },
    {
      "cell_type": "markdown",
      "source": [
        "**Exercise 11: Write `polars` dataframe to a csv named `data.csv`, to a parquet named `data.parquet`, and to a json named `data.json`**"
      ],
      "metadata": {
        "id": "psEgCgOyAC_K"
      }
    },
    {
      "cell_type": "code",
      "source": [],
      "metadata": {
        "id": "HgYyYJS2ATe7"
      },
      "execution_count": 2,
      "outputs": []
    },
    {
      "cell_type": "markdown",
      "source": [
        "**Exercise 12: Read `data.csv` and assign it to `data_csv`, read `data.parquet` and assign it to `data_parquet`, and read `data.json` and assign it to `data_json`**"
      ],
      "metadata": {
        "id": "LKct7CqoATqh"
      }
    },
    {
      "cell_type": "code",
      "source": [],
      "metadata": {
        "id": "yOU5fmdmAgRP"
      },
      "execution_count": 2,
      "outputs": []
    },
    {
      "cell_type": "code",
      "source": [],
      "metadata": {
        "id": "17VsxjfgR5fB"
      },
      "execution_count": 2,
      "outputs": []
    },
    {
      "cell_type": "code",
      "source": [],
      "metadata": {
        "id": "wJ74lQKvAzwf"
      },
      "execution_count": 2,
      "outputs": []
    },
    {
      "cell_type": "code",
      "source": [],
      "metadata": {
        "id": "Jd4WvfF4Az4t"
      },
      "execution_count": 2,
      "outputs": []
    },
    {
      "cell_type": "markdown",
      "source": [
        "**Exercise 13: Read data from this URL: https://github.com/JustinKurland/polars_practice/blob/main/data/polars_sample.csv and assign it to `data_url`**"
      ],
      "metadata": {
        "id": "gZ24KDRPAv84"
      }
    },
    {
      "cell_type": "code",
      "source": [],
      "metadata": {
        "id": "O-SSW4pVCe1g"
      },
      "execution_count": 2,
      "outputs": []
    },
    {
      "cell_type": "markdown",
      "source": [
        "**Exercise 14: Read `users.csv` from `polars_sample.zip` and assign it to `data_zip`**"
      ],
      "metadata": {
        "id": "u9XizeOeCjiM"
      }
    },
    {
      "cell_type": "code",
      "source": [],
      "metadata": {
        "id": "uVuhXNglCrOw"
      },
      "execution_count": 2,
      "outputs": []
    },
    {
      "cell_type": "markdown",
      "source": [
        "**Exercise 15: Create a pl.DataFrame `data_pl` from the pd.DataFrame `pd_dframe` and create a pd.DataFrame `pd_data` from the pl.DataFrame `data_pl`**"
      ],
      "metadata": {
        "id": "AHSzqYKoC0s5"
      }
    },
    {
      "cell_type": "code",
      "source": [],
      "metadata": {
        "id": "35fsq0-sbgqz"
      },
      "execution_count": 2,
      "outputs": []
    },
    {
      "cell_type": "code",
      "source": [],
      "metadata": {
        "id": "NTrDTixAbjjL"
      },
      "execution_count": 2,
      "outputs": []
    },
    {
      "cell_type": "markdown",
      "source": [
        "**Exercise 16: Create a pl.DataFrame `data_np` from the np.array `nparray` and create a np.array `np_data` from the pl.DataFrame `data_np`**"
      ],
      "metadata": {
        "id": "6-8XKV40e3tO"
      }
    },
    {
      "cell_type": "code",
      "source": [],
      "metadata": {
        "id": "9ExkvmFYgdaX"
      },
      "execution_count": 2,
      "outputs": []
    },
    {
      "cell_type": "code",
      "source": [],
      "metadata": {
        "id": "47ImHf2dh4Az"
      },
      "execution_count": 2,
      "outputs": []
    },
    {
      "cell_type": "markdown",
      "source": [
        "**Exercise 17: Create a pl.DataFrame `data_ls` from the list `dlist`**"
      ],
      "metadata": {
        "id": "SJgu7lTPjm0H"
      }
    },
    {
      "cell_type": "code",
      "source": [],
      "metadata": {
        "id": "w3lv6fWllbKT"
      },
      "execution_count": 2,
      "outputs": []
    },
    {
      "cell_type": "markdown",
      "source": [
        "**Exercise 18: Create a pl.DataFrame `data_dc` from the dictionary `p_dict` and create a dictionary `dc_data` from the pl.DataFrame `data_dc`**"
      ],
      "metadata": {
        "id": "Mcm3aJutp5TY"
      }
    },
    {
      "cell_type": "code",
      "source": [],
      "metadata": {
        "id": "iARYgAguqSjn"
      },
      "execution_count": 2,
      "outputs": []
    },
    {
      "cell_type": "code",
      "source": [],
      "metadata": {
        "id": "CXpivC_NtsMu"
      },
      "execution_count": 2,
      "outputs": []
    },
    {
      "cell_type": "markdown",
      "source": [
        "**Exercise 19: Create a pl.DataFrame `data_tp` from the tuples `p_tup` and create tuples `tp_data` from the pl.DataFrame `data_tp`**"
      ],
      "metadata": {
        "id": "hQ6LQtGmqviT"
      }
    },
    {
      "cell_type": "code",
      "source": [],
      "metadata": {
        "id": "n-fWGGHWromL"
      },
      "execution_count": 2,
      "outputs": []
    },
    {
      "cell_type": "code",
      "source": [],
      "metadata": {
        "id": "81LaWOkGu14P"
      },
      "execution_count": 2,
      "outputs": []
    },
    {
      "cell_type": "markdown",
      "source": [
        "**Exercise 20: Create a pl.DataFrame `data_pa` from the pyarrow.Table `pa_table` and create a pyarrow.Table pa_data from the pl.DataFrame `data_pa`**"
      ],
      "metadata": {
        "id": "FtJTR0-8yUPR"
      }
    },
    {
      "cell_type": "code",
      "source": [],
      "metadata": {
        "id": "7QHpFbez2sjj"
      },
      "execution_count": 2,
      "outputs": []
    },
    {
      "cell_type": "code",
      "source": [],
      "metadata": {
        "id": "_hvqonsy3Uxp"
      },
      "execution_count": 2,
      "outputs": []
    }
  ]
}