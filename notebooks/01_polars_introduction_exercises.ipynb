{
  "nbformat": 4,
  "nbformat_minor": 0,
  "metadata": {
    "colab": {
      "provenance": []
    },
    "kernelspec": {
      "name": "python3",
      "display_name": "Python 3"
    },
    "language_info": {
      "name": "python"
    }
  },
  "cells": [
    {
      "cell_type": "markdown",
      "source": [
        "**Exercise 1: Install the latest version of Polars**"
      ],
      "metadata": {
        "id": "zdNvfzpCvaFm"
      }
    },
    {
      "cell_type": "code",
      "source": [],
      "metadata": {
        "id": "oZ8HFRcKvizG"
      },
      "execution_count": null,
      "outputs": []
    },
    {
      "cell_type": "markdown",
      "source": [
        "**Exercise 2: Import the polars package as `pl`**"
      ],
      "metadata": {
        "id": "SLjvvkpHvze9"
      }
    },
    {
      "cell_type": "code",
      "source": [],
      "metadata": {
        "id": "M61IspWGvwxi"
      },
      "execution_count": null,
      "outputs": []
    },
    {
      "cell_type": "markdown",
      "source": [
        "**Exercise 3: Display the version of the polars package**"
      ],
      "metadata": {
        "id": "YexDiFymwBcE"
      }
    },
    {
      "cell_type": "code",
      "source": [],
      "metadata": {
        "id": "W6BiCYgtwJwx"
      },
      "execution_count": 1,
      "outputs": []
    },
    {
      "cell_type": "markdown",
      "source": [
        "**Exercise 4: Create an empty dataframe and assign it to `data`**"
      ],
      "metadata": {
        "id": "pUC0445SwlVi"
      }
    },
    {
      "cell_type": "code",
      "source": [],
      "metadata": {
        "id": "YHmJmQcFwxG1"
      },
      "execution_count": 1,
      "outputs": []
    },
    {
      "cell_type": "markdown",
      "source": [
        "**Exercise 5: Create a dataframe with a column `v1` with integer values from 0 to 9, a column `v2` with values ['Y','O','U','C','A','N','D','O','I','T'] and assign it to `data`**"
      ],
      "metadata": {
        "id": "ZkG2SSXTw6tc"
      }
    },
    {
      "cell_type": "code",
      "source": [],
      "metadata": {
        "id": "bPuW-yVZxcpb"
      },
      "execution_count": 1,
      "outputs": []
    },
    {
      "cell_type": "markdown",
      "source": [
        "**Exercise 6: Display `data`**"
      ],
      "metadata": {
        "id": "QG12hz7R05wA"
      }
    },
    {
      "cell_type": "code",
      "source": [],
      "metadata": {
        "id": "lZYD7-dl0kue"
      },
      "execution_count": 1,
      "outputs": []
    },
    {
      "cell_type": "markdown",
      "source": [
        "**Exercise 7: Display the first 5 rows and the last 3 rows of `data`**"
      ],
      "metadata": {
        "id": "W2ne7IVk1HfC"
      }
    },
    {
      "cell_type": "code",
      "source": [],
      "metadata": {
        "id": "kyzzxB1B1US6"
      },
      "execution_count": 1,
      "outputs": []
    },
    {
      "cell_type": "markdown",
      "source": [
        "**Exercise 8: Display the number of rows and numbers of columns in `data`**"
      ],
      "metadata": {
        "id": "sQKcvyum14GI"
      }
    },
    {
      "cell_type": "code",
      "source": [],
      "metadata": {
        "id": "MmZc2Jss1-je"
      },
      "execution_count": 1,
      "outputs": []
    },
    {
      "cell_type": "markdown",
      "source": [
        "**Exercise 9: Display the shape of the `data`**"
      ],
      "metadata": {
        "id": "AwiaY2mZdqOW"
      }
    },
    {
      "cell_type": "code",
      "source": [],
      "metadata": {
        "id": "kJZLSps-dcq4"
      },
      "execution_count": 1,
      "outputs": []
    },
    {
      "cell_type": "markdown",
      "source": [
        "**Exercise 10: Display the column names of `data`**"
      ],
      "metadata": {
        "id": "FWB6yb9hd5Le"
      }
    },
    {
      "cell_type": "code",
      "source": [],
      "metadata": {
        "id": "poewRhhedzXc"
      },
      "execution_count": 1,
      "outputs": []
    }
  ]
}