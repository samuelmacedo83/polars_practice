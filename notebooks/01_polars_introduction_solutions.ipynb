{
  "nbformat": 4,
  "nbformat_minor": 0,
  "metadata": {
    "colab": {
      "provenance": []
    },
    "kernelspec": {
      "name": "python3",
      "display_name": "Python 3"
    },
    "language_info": {
      "name": "python"
    }
  },
  "cells": [
    {
      "cell_type": "markdown",
      "source": [
        "**Exercise 1: Install the latest version of Polars**"
      ],
      "metadata": {
        "id": "zdNvfzpCvaFm"
      }
    },
    {
      "cell_type": "code",
      "source": [
        "!pip install polars"
      ],
      "metadata": {
        "colab": {
          "base_uri": "https://localhost:8080/"
        },
        "id": "oZ8HFRcKvizG",
        "outputId": "ca6c1caa-6ec2-4a12-bdad-763d4ee14c12"
      },
      "execution_count": 2,
      "outputs": [
        {
          "output_type": "stream",
          "name": "stdout",
          "text": [
            "Looking in indexes: https://pypi.org/simple, https://us-python.pkg.dev/colab-wheels/public/simple/\n",
            "Collecting polars\n",
            "  Downloading polars-0.15.1-cp37-abi3-manylinux_2_17_x86_64.manylinux2014_x86_64.whl (14.2 MB)\n",
            "\u001b[K     |████████████████████████████████| 14.2 MB 8.3 MB/s \n",
            "\u001b[?25hRequirement already satisfied: typing_extensions>=4.0.0 in /usr/local/lib/python3.7/dist-packages (from polars) (4.1.1)\n",
            "Installing collected packages: polars\n",
            "Successfully installed polars-0.15.1\n"
          ]
        }
      ]
    },
    {
      "cell_type": "markdown",
      "source": [
        "**Exercise 2: Import the polars package as `pl`**"
      ],
      "metadata": {
        "id": "SLjvvkpHvze9"
      }
    },
    {
      "cell_type": "code",
      "source": [
        "import polars as pl"
      ],
      "metadata": {
        "id": "M61IspWGvwxi"
      },
      "execution_count": 3,
      "outputs": []
    },
    {
      "cell_type": "markdown",
      "source": [
        "**Exercise 3: Display the version of the polars package**"
      ],
      "metadata": {
        "id": "YexDiFymwBcE"
      }
    },
    {
      "cell_type": "code",
      "source": [
        "pl.__version__"
      ],
      "metadata": {
        "colab": {
          "base_uri": "https://localhost:8080/",
          "height": 35
        },
        "id": "W6BiCYgtwJwx",
        "outputId": "7a8be212-a3f0-4ad8-e6d8-72aacb5b9cc2"
      },
      "execution_count": 4,
      "outputs": [
        {
          "output_type": "execute_result",
          "data": {
            "text/plain": [
              "'0.15.1'"
            ],
            "application/vnd.google.colaboratory.intrinsic+json": {
              "type": "string"
            }
          },
          "metadata": {},
          "execution_count": 4
        }
      ]
    },
    {
      "cell_type": "markdown",
      "source": [
        "**Exercise 4: Create an empty dataframe and assign it to `data`**"
      ],
      "metadata": {
        "id": "pUC0445SwlVi"
      }
    },
    {
      "cell_type": "code",
      "source": [
        "data = pl.DataFrame()"
      ],
      "metadata": {
        "id": "YHmJmQcFwxG1"
      },
      "execution_count": 5,
      "outputs": []
    },
    {
      "cell_type": "markdown",
      "source": [
        "**Exercise 5: Create a dataframe with a column `v1` with integer values from 0 to 9, a column `v2` with values ['Y','O','U','C','A','N','D','O','I','T'] and assign it to `data`**"
      ],
      "metadata": {
        "id": "ZkG2SSXTw6tc"
      }
    },
    {
      "cell_type": "code",
      "source": [
        "data = pl.DataFrame(\n",
        "    {\"v1\": list(range(10)), \n",
        "     \"v2\":['Y', 'O', 'U', 'C', 'A', 'N', 'D', 'O', 'I', 'T']\n",
        "    }\n",
        ")"
      ],
      "metadata": {
        "id": "bPuW-yVZxcpb"
      },
      "execution_count": 9,
      "outputs": []
    },
    {
      "cell_type": "markdown",
      "source": [
        "**Exercise 6: Display `data`**"
      ],
      "metadata": {
        "id": "QG12hz7R05wA"
      }
    },
    {
      "cell_type": "code",
      "source": [
        "data"
      ],
      "metadata": {
        "colab": {
          "base_uri": "https://localhost:8080/",
          "height": 367
        },
        "id": "lZYD7-dl0kue",
        "outputId": "58041c23-5508-46e1-bff4-b79d4254c3a3"
      },
      "execution_count": 10,
      "outputs": [
        {
          "output_type": "execute_result",
          "data": {
            "text/plain": [
              "shape: (10, 2)\n",
              "┌─────┬─────┐\n",
              "│ v1  ┆ v2  │\n",
              "│ --- ┆ --- │\n",
              "│ i64 ┆ str │\n",
              "╞═════╪═════╡\n",
              "│ 1   ┆ Y   │\n",
              "├╌╌╌╌╌┼╌╌╌╌╌┤\n",
              "│ 2   ┆ O   │\n",
              "├╌╌╌╌╌┼╌╌╌╌╌┤\n",
              "│ 3   ┆ U   │\n",
              "├╌╌╌╌╌┼╌╌╌╌╌┤\n",
              "│ 4   ┆ C   │\n",
              "├╌╌╌╌╌┼╌╌╌╌╌┤\n",
              "│ ... ┆ ... │\n",
              "├╌╌╌╌╌┼╌╌╌╌╌┤\n",
              "│ 7   ┆ D   │\n",
              "├╌╌╌╌╌┼╌╌╌╌╌┤\n",
              "│ 8   ┆ O   │\n",
              "├╌╌╌╌╌┼╌╌╌╌╌┤\n",
              "│ 9   ┆ I   │\n",
              "├╌╌╌╌╌┼╌╌╌╌╌┤\n",
              "│ 10  ┆ T   │\n",
              "└─────┴─────┘"
            ],
            "text/html": [
              "<div>\n",
              "<style scoped>\n",
              "    .dataframe tbody tr th:only-of-type {\n",
              "        vertical-align: middle;\n",
              "    }\n",
              "\n",
              "    .dataframe tbody tr th {\n",
              "        vertical-align: top;\n",
              "    }\n",
              "\n",
              "    .dataframe thead th {\n",
              "        text-align: right;\n",
              "    }\n",
              "\n",
              "    .dataframe td {\n",
              "        white-space: pre;\n",
              "    }\n",
              "\n",
              "    .dataframe td {\n",
              "        padding-top: 0;\n",
              "    }\n",
              "\n",
              "    .dataframe td {\n",
              "        padding-bottom: 0;\n",
              "    }\n",
              "\n",
              "    .dataframe td {\n",
              "        line-height: 95%;\n",
              "    }\n",
              "</style>\n",
              "<table border=\"1\" class=\"dataframe\" >\n",
              "<small>shape: (10, 2)</small>\n",
              "<thead>\n",
              "<tr>\n",
              "<th>\n",
              "v1\n",
              "</th>\n",
              "<th>\n",
              "v2\n",
              "</th>\n",
              "</tr>\n",
              "<tr>\n",
              "<td>\n",
              "i64\n",
              "</td>\n",
              "<td>\n",
              "str\n",
              "</td>\n",
              "</tr>\n",
              "</thead>\n",
              "<tbody>\n",
              "<tr>\n",
              "<td>\n",
              "1\n",
              "</td>\n",
              "<td>\n",
              "&quot;Y&quot;\n",
              "</td>\n",
              "</tr>\n",
              "<tr>\n",
              "<td>\n",
              "2\n",
              "</td>\n",
              "<td>\n",
              "&quot;O&quot;\n",
              "</td>\n",
              "</tr>\n",
              "<tr>\n",
              "<td>\n",
              "3\n",
              "</td>\n",
              "<td>\n",
              "&quot;U&quot;\n",
              "</td>\n",
              "</tr>\n",
              "<tr>\n",
              "<td>\n",
              "4\n",
              "</td>\n",
              "<td>\n",
              "&quot;C&quot;\n",
              "</td>\n",
              "</tr>\n",
              "<tr>\n",
              "<td>\n",
              "5\n",
              "</td>\n",
              "<td>\n",
              "&quot;A&quot;\n",
              "</td>\n",
              "</tr>\n",
              "<tr>\n",
              "<td>\n",
              "6\n",
              "</td>\n",
              "<td>\n",
              "&quot;N&quot;\n",
              "</td>\n",
              "</tr>\n",
              "<tr>\n",
              "<td>\n",
              "7\n",
              "</td>\n",
              "<td>\n",
              "&quot;D&quot;\n",
              "</td>\n",
              "</tr>\n",
              "<tr>\n",
              "<td>\n",
              "8\n",
              "</td>\n",
              "<td>\n",
              "&quot;O&quot;\n",
              "</td>\n",
              "</tr>\n",
              "<tr>\n",
              "<td>\n",
              "9\n",
              "</td>\n",
              "<td>\n",
              "&quot;I&quot;\n",
              "</td>\n",
              "</tr>\n",
              "<tr>\n",
              "<td>\n",
              "10\n",
              "</td>\n",
              "<td>\n",
              "&quot;T&quot;\n",
              "</td>\n",
              "</tr>\n",
              "</tbody>\n",
              "</table>\n",
              "</div>"
            ]
          },
          "metadata": {},
          "execution_count": 10
        }
      ]
    },
    {
      "cell_type": "markdown",
      "source": [
        "**Exercise 7: Display the first 5 rows and the last 3 rows of `data`**"
      ],
      "metadata": {
        "id": "W2ne7IVk1HfC"
      }
    },
    {
      "cell_type": "code",
      "source": [
        "data.head(5), data.tail(3)"
      ],
      "metadata": {
        "colab": {
          "base_uri": "https://localhost:8080/"
        },
        "id": "kyzzxB1B1US6",
        "outputId": "3a95d077-5c0f-4478-e009-dface44a79cb"
      },
      "execution_count": 11,
      "outputs": [
        {
          "output_type": "execute_result",
          "data": {
            "text/plain": [
              "(shape: (5, 2)\n",
              " ┌─────┬─────┐\n",
              " │ v1  ┆ v2  │\n",
              " │ --- ┆ --- │\n",
              " │ i64 ┆ str │\n",
              " ╞═════╪═════╡\n",
              " │ 1   ┆ Y   │\n",
              " ├╌╌╌╌╌┼╌╌╌╌╌┤\n",
              " │ 2   ┆ O   │\n",
              " ├╌╌╌╌╌┼╌╌╌╌╌┤\n",
              " │ 3   ┆ U   │\n",
              " ├╌╌╌╌╌┼╌╌╌╌╌┤\n",
              " │ 4   ┆ C   │\n",
              " ├╌╌╌╌╌┼╌╌╌╌╌┤\n",
              " │ 5   ┆ A   │\n",
              " └─────┴─────┘, shape: (3, 2)\n",
              " ┌─────┬─────┐\n",
              " │ v1  ┆ v2  │\n",
              " │ --- ┆ --- │\n",
              " │ i64 ┆ str │\n",
              " ╞═════╪═════╡\n",
              " │ 8   ┆ O   │\n",
              " ├╌╌╌╌╌┼╌╌╌╌╌┤\n",
              " │ 9   ┆ I   │\n",
              " ├╌╌╌╌╌┼╌╌╌╌╌┤\n",
              " │ 10  ┆ T   │\n",
              " └─────┴─────┘)"
            ]
          },
          "metadata": {},
          "execution_count": 11
        }
      ]
    },
    {
      "cell_type": "markdown",
      "source": [
        "**Exercise 8: Display the number of rows and numbers of columns in `data`**"
      ],
      "metadata": {
        "id": "sQKcvyum14GI"
      }
    },
    {
      "cell_type": "code",
      "source": [
        "data.height, data.width"
      ],
      "metadata": {
        "colab": {
          "base_uri": "https://localhost:8080/"
        },
        "id": "MmZc2Jss1-je",
        "outputId": "c0b9fb38-6aa0-4b9b-aa73-11efec875c98"
      },
      "execution_count": 20,
      "outputs": [
        {
          "output_type": "execute_result",
          "data": {
            "text/plain": [
              "(10, 2)"
            ]
          },
          "metadata": {},
          "execution_count": 20
        }
      ]
    },
    {
      "cell_type": "markdown",
      "source": [
        "**Exercise 9: Display the shape of the `data`**"
      ],
      "metadata": {
        "id": "AwiaY2mZdqOW"
      }
    },
    {
      "cell_type": "code",
      "source": [
        "data.shape"
      ],
      "metadata": {
        "colab": {
          "base_uri": "https://localhost:8080/"
        },
        "id": "kJZLSps-dcq4",
        "outputId": "4740ae76-6b0f-4885-f692-abeb348165d1"
      },
      "execution_count": 21,
      "outputs": [
        {
          "output_type": "execute_result",
          "data": {
            "text/plain": [
              "(10, 2)"
            ]
          },
          "metadata": {},
          "execution_count": 21
        }
      ]
    },
    {
      "cell_type": "markdown",
      "source": [
        "**Exercise 10: Display the column names of `data`**"
      ],
      "metadata": {
        "id": "FWB6yb9hd5Le"
      }
    },
    {
      "cell_type": "code",
      "source": [
        "data.columns"
      ],
      "metadata": {
        "colab": {
          "base_uri": "https://localhost:8080/"
        },
        "id": "poewRhhedzXc",
        "outputId": "4b28feb7-d4fc-4af4-fa0a-923569c99bc1"
      },
      "execution_count": 22,
      "outputs": [
        {
          "output_type": "execute_result",
          "data": {
            "text/plain": [
              "['v1', 'v2']"
            ]
          },
          "metadata": {},
          "execution_count": 22
        }
      ]
    }
  ]
}
