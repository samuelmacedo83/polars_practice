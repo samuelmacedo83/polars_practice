{
  "nbformat": 4,
  "nbformat_minor": 0,
  "metadata": {
    "colab": {
      "provenance": []
    },
    "kernelspec": {
      "name": "python3",
      "display_name": "Python 3"
    },
    "language_info": {
      "name": "python"
    }
  },
  "cells": [
    {
      "cell_type": "markdown",
      "source": [
        "This is Set 7: Multiple Frames (Exercises 61-70) of Polars Exercises: 💯 polars exercises You can find all the exercises and solutions on [GitHub](https://github.com/JustinKurland/polars_practice)\n",
        "\n",
        "**Prerequisites**\n",
        "\n",
        "The `polars` package should be upgraded to the latest version (v0.15.1+).\n",
        "\n",
        "*   The `polars` package should be upgraded to the latest version (v0.15.1+).\n",
        "*   The sample dataset [polars_sample.zip](https://github.com/JustinKurland/polars_practice/blob/main/data/polars_sample.zip) will be used for the exercises."
      ],
      "metadata": {
        "id": "d4EseJWggips"
      }
    },
    {
      "cell_type": "code",
      "source": [
        "!pip install polars"
      ],
      "metadata": {
        "colab": {
          "base_uri": "https://localhost:8080/"
        },
        "id": "fHj7n1zeiAFy",
        "outputId": "6a527cd8-c0b2-421f-ec56-46e437ec4785"
      },
      "execution_count": 1,
      "outputs": [
        {
          "output_type": "stream",
          "name": "stdout",
          "text": [
            "Looking in indexes: https://pypi.org/simple, https://us-python.pkg.dev/colab-wheels/public/simple/\n",
            "Collecting polars\n",
            "  Downloading polars-0.15.8-cp37-abi3-manylinux_2_17_x86_64.manylinux2014_x86_64.whl (14.6 MB)\n",
            "\u001b[K     |████████████████████████████████| 14.6 MB 5.2 MB/s \n",
            "\u001b[?25hRequirement already satisfied: typing_extensions>=4.0.0 in /usr/local/lib/python3.8/dist-packages (from polars) (4.4.0)\n",
            "Installing collected packages: polars\n",
            "Successfully installed polars-0.15.8\n"
          ]
        }
      ]
    },
    {
      "cell_type": "code",
      "source": [
        "import polars as pl\n",
        "from zipfile import ZipFile"
      ],
      "metadata": {
        "id": "Nwx5DC9ziF5_"
      },
      "execution_count": 2,
      "outputs": []
    },
    {
      "cell_type": "markdown",
      "source": [
        "**Exercise 61: Read all the files together from polars_sample.zip, and assign the list of frames to `data`**"
      ],
      "metadata": {
        "id": "NLdAV1kjiPNx"
      }
    },
    {
      "cell_type": "code",
      "source": [],
      "metadata": {
        "id": "-0jF_c-0l3G4"
      },
      "execution_count": 48,
      "outputs": []
    },
    {
      "cell_type": "markdown",
      "source": [
        "**Exercise 62: Assign the dataframes in data to individual frames `orders_jan`, `orders_feb`, `orders_mar`, `returns` and `users` respectively and display the head of each dataframe**"
      ],
      "metadata": {
        "id": "qP2PbU4Iu-oy"
      }
    },
    {
      "cell_type": "code",
      "source": [],
      "metadata": {
        "id": "QWtSEBLBtCwV"
      },
      "execution_count": 48,
      "outputs": []
    },
    {
      "cell_type": "code",
      "source": [],
      "metadata": {
        "id": "GaNBYA1qnNny"
      },
      "execution_count": 48,
      "outputs": []
    },
    {
      "cell_type": "code",
      "source": [],
      "metadata": {
        "id": "IV06v_x5ueOC"
      },
      "execution_count": 48,
      "outputs": []
    },
    {
      "cell_type": "code",
      "source": [],
      "metadata": {
        "id": "ZKo2unrkuppd"
      },
      "execution_count": 48,
      "outputs": []
    },
    {
      "cell_type": "code",
      "source": [],
      "metadata": {
        "id": "u0nMfWo_uu12"
      },
      "execution_count": 48,
      "outputs": []
    },
    {
      "cell_type": "markdown",
      "source": [
        "**Exercise 63: Append all rows of `orders_jan`, `orders_feb` and `orders_mar` into a single frame and assign it to `orders_all`**"
      ],
      "metadata": {
        "id": "p1aYRjgpu3md"
      }
    },
    {
      "cell_type": "code",
      "source": [],
      "metadata": {
        "id": "QloTc3Iqu0Mu"
      },
      "execution_count": 48,
      "outputs": []
    },
    {
      "cell_type": "markdown",
      "source": [
        "**Exercise 64: Join `orders_all` to `returns` on `Order ID` and assign it to `sales`**"
      ],
      "metadata": {
        "id": "U0gmzaTAxTKj"
      }
    },
    {
      "cell_type": "code",
      "source": [],
      "metadata": {
        "id": "f9TjfY2CxXFm"
      },
      "execution_count": 48,
      "outputs": []
    },
    {
      "cell_type": "markdown",
      "source": [
        "**Exercise 65: Update `users` by joining `sales` to it on `Return ID` and `Category ID`**"
      ],
      "metadata": {
        "id": "CrezhN4cyVoT"
      }
    },
    {
      "cell_type": "code",
      "source": [],
      "metadata": {
        "id": "J-Kx-wy7ya53"
      },
      "execution_count": 48,
      "outputs": []
    },
    {
      "cell_type": "markdown",
      "source": [
        "**Exercise 66: Display the Categories that had orders in `Jan` or `Mar`**"
      ],
      "metadata": {
        "id": "1AOI28Nz_hCQ"
      }
    },
    {
      "cell_type": "code",
      "source": [],
      "metadata": {
        "id": "3dfsCbmcAN4q"
      },
      "execution_count": 48,
      "outputs": []
    },
    {
      "cell_type": "markdown",
      "source": [
        "**Exercise 67: Display the Categories that had orders in each of the three months**"
      ],
      "metadata": {
        "id": "1HCKKYkMBT0y"
      }
    },
    {
      "cell_type": "code",
      "source": [],
      "metadata": {
        "id": "f76KbWxsGuQ8"
      },
      "execution_count": 48,
      "outputs": []
    },
    {
      "cell_type": "markdown",
      "source": [
        "**Exercise 68: Display the Categories that had orders only in `Jan` but not in `Feb` and `Mar`**"
      ],
      "metadata": {
        "id": "stezZK6oISzX"
      }
    },
    {
      "cell_type": "code",
      "source": [],
      "metadata": {
        "id": "Yg11Alk8IkWQ"
      },
      "execution_count": 48,
      "outputs": []
    },
    {
      "cell_type": "markdown",
      "source": [
        "**Exercise 69: Display the Categories that had orders in any of the three months but never together**"
      ],
      "metadata": {
        "id": "9i5BmI-tJEY-"
      }
    },
    {
      "cell_type": "code",
      "source": [],
      "metadata": {
        "id": "RsGXnQCTJNP1"
      },
      "execution_count": 48,
      "outputs": []
    },
    {
      "cell_type": "markdown",
      "source": [
        "**Exercise 70: One-hot encode the column `Region` in `users`, assign it to `ohe_region` and append it back to `users`**"
      ],
      "metadata": {
        "id": "n3J3AA40JWcB"
      }
    },
    {
      "cell_type": "code",
      "source": [],
      "metadata": {
        "id": "V_PlPXrcJnXI"
      },
      "execution_count": 48,
      "outputs": []
    },
    {
      "cell_type": "code",
      "source": [],
      "metadata": {
        "id": "nijvWQgFKGH9"
      },
      "execution_count": 48,
      "outputs": []
    }
  ]
}